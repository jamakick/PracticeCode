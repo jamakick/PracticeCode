{
 "cells": [
  {
   "cell_type": "markdown",
   "metadata": {},
   "source": [
    "Jake Kickbush\n",
    "Lab Assignment 2\n",
    "Python Data Analysis"
   ]
  },
  {
   "cell_type": "markdown",
   "metadata": {},
   "source": [
    "Import numpy as np so we can use the np functions in our code. Load in the text file with the dtype string since we have both words and numbers, and use the delimiter , since it is a csv file"
   ]
  },
  {
   "cell_type": "code",
   "execution_count": 6,
   "metadata": {},
   "outputs": [
    {
     "name": "stdout",
     "output_type": "stream",
     "text": [
      "[['ï»¿TD-DEPARTMENT OF TRANSPORTATION' '108252']\n",
      " ['DJ-DEPARTMENT OF JUSTICE' '40033']\n",
      " ['HS-DEPARTMENT OF HOMELAND SECURITY' '39685']\n",
      " ...\n",
      " ['HS-DEPARTMENT OF HOMELAND SECURITY' '104433']\n",
      " ['HS-DEPARTMENT OF HOMELAND SECURITY' '42314']\n",
      " ['VA-DEPARTMENT OF VETERANS AFFAIRS' '48211']]\n"
     ]
    }
   ],
   "source": [
    "import numpy as np\n",
    "\n",
    "contents = np.loadtxt(\"salaries.csv\",dtype=str, delimiter=\",\")\n",
    "print(contents)"
   ]
  },
  {
   "cell_type": "markdown",
   "metadata": {},
   "source": [
    "Split our array into two separate arrays by creating lists of all the names and all the salaries, and then making arrays from those lists. I make the salaries array a float type when it is defined so it doesn't have to be changed later"
   ]
  },
  {
   "cell_type": "code",
   "execution_count": 7,
   "metadata": {},
   "outputs": [
    {
     "name": "stdout",
     "output_type": "stream",
     "text": [
      "['ï»¿TD-DEPARTMENT OF TRANSPORTATION' 'DJ-DEPARTMENT OF JUSTICE'\n",
      " 'HS-DEPARTMENT OF HOMELAND SECURITY' ...\n",
      " 'HS-DEPARTMENT OF HOMELAND SECURITY' 'HS-DEPARTMENT OF HOMELAND SECURITY'\n",
      " 'VA-DEPARTMENT OF VETERANS AFFAIRS']\n",
      "[108252.  40033.  39685. ... 104433.  42314.  48211.]\n"
     ]
    }
   ],
   "source": [
    "names = []\n",
    "\n",
    "salaries = []\n",
    "\n",
    "for item in contents:\n",
    "    names.append(item[0])\n",
    "    salaries.append(item[1])\n",
    "    \n",
    "names = np.array(names)\n",
    "\n",
    "salaries = np.array(salaries, float)\n",
    "\n",
    "print(names)\n",
    "print(salaries)"
   ]
  },
  {
   "cell_type": "markdown",
   "metadata": {},
   "source": [
    "Here we do a where replace to find the transportation name with the weird symbols and replace it with the regular name in our names array."
   ]
  },
  {
   "cell_type": "code",
   "execution_count": 8,
   "metadata": {},
   "outputs": [
    {
     "name": "stdout",
     "output_type": "stream",
     "text": [
      "['TD-DEPARTMENT OF TRANSPORTATION' 'DJ-DEPARTMENT OF JUSTICE'\n",
      " 'HS-DEPARTMENT OF HOMELAND SECURITY' ...\n",
      " 'HS-DEPARTMENT OF HOMELAND SECURITY' 'HS-DEPARTMENT OF HOMELAND SECURITY'\n",
      " 'VA-DEPARTMENT OF VETERANS AFFAIRS']\n"
     ]
    }
   ],
   "source": [
    "names = np.where(names=='ï»¿TD-DEPARTMENT OF TRANSPORTATION', 'TD-DEPARTMENT OF TRANSPORTATION', names)\n",
    "print(names)"
   ]
  },
  {
   "cell_type": "markdown",
   "metadata": {},
   "source": [
    "We first get an array of boolean values where it is true if the name in the names array is equal to the department of homeland security. We then find the mean of all the salaries where this is true and round it to two decimal places to get our homelandAvg."
   ]
  },
  {
   "cell_type": "code",
   "execution_count": 9,
   "metadata": {},
   "outputs": [
    {
     "name": "stdout",
     "output_type": "stream",
     "text": [
      "[False False  True ...  True  True False]\n",
      "78830.5\n"
     ]
    }
   ],
   "source": [
    "nameBools = names == \"HS-DEPARTMENT OF HOMELAND SECURITY\"\n",
    "\n",
    "homelandAvg = round(np.mean(salaries[nameBools]), 2)\n",
    "\n",
    "print(nameBools)\n",
    "print(homelandAvg)"
   ]
  },
  {
   "cell_type": "markdown",
   "metadata": {},
   "source": [
    "This is the extra section, I create an allAvg list to hold my other lists that will then be turned into an array. I iterate through the unique words in the names array so that we look at each agency once, and we do the same boolean and mean operation as before. We then save this as a list to our allAvg list, and make an array out of it. Finally we save this to a file with savetxt, give it the csv filename, our array to save, the format as a string, and a comma delimiter."
   ]
  },
  {
   "cell_type": "code",
   "execution_count": 10,
   "metadata": {},
   "outputs": [
    {
     "name": "stdout",
     "output_type": "stream",
     "text": [
      "[['AG-DEPARTMENT OF AGRICULTURE' '63967.41']\n",
      " ['AH-NATIONAL FOUNDATION ON THE ARTS AND THE HUMANITIES' '119776.0']\n",
      " ['AM-U.S. AGENCY FOR INTERNATIONAL DEVELOPMENT' '125631.62']\n",
      " ['BG-PENSION BENEFIT GUARANTY CORPORATION' '129758.67']\n",
      " ['BO-OFFICE OF MANAGEMENT AND BUDGET' '148609.99']\n",
      " ['CM-DEPARTMENT OF COMMERCE' '91676.2']\n",
      " ['CT-COMMODITY FUTURES TRADING COMMISSION' '128565.0']\n",
      " ['CU-NATIONAL CREDIT UNION ADMINISTRATION' '140537.8']\n",
      " ['CX-NATIONAL COMMISSION ON LIBRARIES AND INFORMATION SCIENCE'\n",
      "  '118437.25']\n",
      " ['DB-PUBLIC INTEREST DECLASSIFICATION BOARD' '121956.45']\n",
      " ['DJ-DEPARTMENT OF JUSTICE' '92838.98']\n",
      " ['DL-DEPARTMENT OF LABOR' '95646.19']\n",
      " ['ED-DEPARTMENT OF EDUCATION' '114927.5']\n",
      " ['EE-EQUAL EMPLOYMENT OPPORTUNITY COMMISSION' '45995.0']\n",
      " ['EO-MORRIS K. UDALL AND STEWART L. UDALL FOUNDATION' '64862.0']\n",
      " ['EP-ENVIRONMENTAL PROTECTION AGENCY' '118152.2']\n",
      " ['EQ-COUNCIL ON ENVIRONMENTAL QUALITY/OFFICE OF ENVIRONMENTAL QUALITY'\n",
      "  '55000.0']\n",
      " ['FC-FEDERAL COMMUNICATIONS COMMISSION' '133584.67']\n",
      " ['FD-FEDERAL DEPOSIT INSURANCE CORPORATION' '152165.4']\n",
      " ['FL-FARM CREDIT ADMINISTRATION' '66495.0']\n",
      " ['FT-FEDERAL TRADE COMMISSION' '133902.5']\n",
      " ['GS-GENERAL SERVICES ADMINISTRATION' '101637.67']\n",
      " ['GW-INTERNATIONAL BOUNDARY AND WATER COMMISSION:  UNITED STATES AND MEXICO'\n",
      "  '82848.0']\n",
      " ['HE-DEPARTMENT OF HEALTH AND HUMAN SERVICES' '106350.59']\n",
      " ['HS-DEPARTMENT OF HOMELAND SECURITY' '78830.5']\n",
      " ['HU-DEPARTMENT OF HOUSING AND URBAN DEVELOPMENT' '102945.62']\n",
      " ['IB-BROADCASTING BOARD OF GOVERNORS' '108887.0']\n",
      " ['IN-DEPARTMENT OF THE INTERIOR' '75623.37']\n",
      " ['KS-CORPORATION FOR NATIONAL AND COMMUNITY SERVICE' '79264.0']\n",
      " ['NF-NATIONAL SCIENCE FOUNDATION' '120826.0']\n",
      " ['NL-NATIONAL LABOR RELATIONS BOARD' '123284.33']\n",
      " ['NN-NATIONAL AERONAUTICS AND SPACE ADMINISTRATION' '122579.7']\n",
      " ['NQ-NATIONAL ARCHIVES AND RECORDS ADMINISTRATION' '68553.33']\n",
      " ['NU-NUCLEAR REGULATORY COMMISSION' '117667.0']\n",
      " ['OM-OFFICE OF PERSONNEL MANAGEMENT' '98178.43']\n",
      " ['PU-PEACE CORPS' '125532.5']\n",
      " ['SB-SMALL BUSINESS ADMINISTRATION' '108789.0']\n",
      " ['SE-SECURITIES AND EXCHANGE COMMISSION' '202397.75']\n",
      " ['SK-CONSUMER PRODUCT SAFETY COMMISSION' '101067.0']\n",
      " ['SM-SMITHSONIAN INSTITUTION' '86332.67']\n",
      " ['ST-DEPARTMENT OF STATE' '84425.59']\n",
      " ['SZ-SOCIAL SECURITY ADMINISTRATION' '85668.42']\n",
      " ['TB-NATIONAL TRANSPORTATION SAFETY BOARD' '134296.0']\n",
      " ['TD-DEPARTMENT OF TRANSPORTATION' '113502.5']\n",
      " ['TR-DEPARTMENT OF THE TREASURY' '85631.15']\n",
      " ['VA-DEPARTMENT OF VETERANS AFFAIRS' '76235.28']\n",
      " ['VD-PRIVACY AND CIVIL LIBERTIES OVERSIGHT BOARD' '149432.0']]\n"
     ]
    }
   ],
   "source": [
    "allAvg = []\n",
    "\n",
    "for name in np.unique(names):\n",
    "    newBools = names == name\n",
    "    newAvg = round(np.mean(salaries[newBools]), 2)\n",
    "    allAvg.append([name, newAvg])\n",
    "    \n",
    "avgArray = np.array(allAvg)\n",
    "\n",
    "print(avgArray)\n",
    "\n",
    "np.savetxt(\"agencyAverageSalaries.csv\", avgArray, fmt=\"%s\", delimiter=\",\")"
   ]
  },
  {
   "cell_type": "code",
   "execution_count": null,
   "metadata": {},
   "outputs": [],
   "source": []
  }
 ],
 "metadata": {
  "kernelspec": {
   "display_name": "Python 3",
   "language": "python",
   "name": "python3"
  },
  "language_info": {
   "codemirror_mode": {
    "name": "ipython",
    "version": 3
   },
   "file_extension": ".py",
   "mimetype": "text/x-python",
   "name": "python",
   "nbconvert_exporter": "python",
   "pygments_lexer": "ipython3",
   "version": "3.6.5"
  }
 },
 "nbformat": 4,
 "nbformat_minor": 2
}
