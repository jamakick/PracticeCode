{
 "cells": [
  {
   "cell_type": "markdown",
   "metadata": {},
   "source": [
    "# Lab 5"
   ]
  },
  {
   "cell_type": "markdown",
   "metadata": {},
   "source": [
    "## 1) Import the file tmdb_5000.csv into pandas.  Ascertain how many rows (and which ones) are duplicates.  Print this information (both the count and the row information for all duplicates), and then delete the duplicated rows."
   ]
  },
  {
   "cell_type": "code",
   "execution_count": 29,
   "metadata": {},
   "outputs": [
    {
     "name": "stdout",
     "output_type": "stream",
     "text": [
      "There are  11 duplicate records:\n",
      "\n",
      "           budget                                             genres  \\\n",
      "1574      75000.0           [{\"id\": 878, \"name\": \"Science Fiction\"}]   \n",
      "1721          0.0  [{\"id\": 14, \"name\": \"Fantasy\"}, {\"id\": 35, \"na...   \n",
      "3192   14000000.0  [{\"id\": 10749, \"name\": \"Romance\"}, {\"id\": 35, ...   \n",
      "3266   27000000.0  [{\"id\": 28, \"name\": \"Action\"}, {\"id\": 12, \"nam...   \n",
      "3616   80000000.0  [{\"id\": 878, \"name\": \"Science Fiction\"}, {\"id\"...   \n",
      "3710    2000000.0                   [{\"id\": 53, \"name\": \"Thriller\"}]   \n",
      "3881   55000000.0  [{\"id\": 53, \"name\": \"Thriller\"}, {\"id\": 18, \"n...   \n",
      "4244          0.0                      [{\"id\": 18, \"name\": \"Drama\"}]   \n",
      "4333   40000000.0  [{\"id\": 18, \"name\": \"Drama\"}, {\"id\": 10752, \"n...   \n",
      "4574   11000000.0  [{\"id\": 18, \"name\": \"Drama\"}, {\"id\": 53, \"name...   \n",
      "4779  120000000.0  [{\"id\": 28, \"name\": \"Action\"}, {\"id\": 10751, \"...   \n",
      "\n",
      "                                            homepage        id  \\\n",
      "1574                                             NaN  360188.0   \n",
      "1721                                             NaN   37718.0   \n",
      "3192                                             NaN     114.0   \n",
      "3266                                             NaN   79698.0   \n",
      "3616                                             NaN    4858.0   \n",
      "3710  http://www.screenmedia.net/project/shark-lake/  299553.0   \n",
      "3881                                             NaN    9315.0   \n",
      "4244                                             NaN   12838.0   \n",
      "4333              http://www.childrenofhuangshi.com/   13405.0   \n",
      "4574                                             NaN   12149.0   \n",
      "4779   http://www.speedracerthemovie.warnerbros.com/    7459.0   \n",
      "\n",
      "                                               keywords original_language  \\\n",
      "1574  [{\"id\": 1299, \"name\": \"monster\"}, {\"id\": 9970,...                en   \n",
      "1721  [{\"id\": 888, \"name\": \"screenwriter\"}, {\"id\": 9...                en   \n",
      "3192  [{\"id\": 549, \"name\": \"prostitute\"}, {\"id\": 592...                en   \n",
      "3266                                                 []                en   \n",
      "3616  [{\"id\": 9714, \"name\": \"remake\"}, {\"id\": 9951, ...                en   \n",
      "3710  [{\"id\": 1889, \"name\": \"lake\"}, {\"id\": 2988, \"n...                en   \n",
      "3881  [{\"id\": 220, \"name\": \"berlin\"}, {\"id\": 1872, \"...                en   \n",
      "4244  [{\"id\": 254, \"name\": \"france\"}, {\"id\": 4048, \"...                fr   \n",
      "4333  [{\"id\": 9672, \"name\": \"based on true story\"}, ...                zh   \n",
      "4574  [{\"id\": 290, \"name\": \"angel\"}, {\"id\": 798, \"na...                en   \n",
      "4779  [{\"id\": 830, \"name\": \"car race\"}, {\"id\": 963, ...                en   \n",
      "\n",
      "      original_title                                           overview  \\\n",
      "1574      Queen Crab  A meteor crashes into a quiet lake in the remo...   \n",
      "1721        The Muse  What happens when a screenwriter (Brooks) lose...   \n",
      "3192    Pretty Woman  When millionaire wheeler-dealer Edward Lewis e...   \n",
      "3266      The Lovers  The Lovers is an epic romance time travel adve...   \n",
      "3616    The Invasion  Washington, D.C. psychologist Carol Bennell an...   \n",
      "3710      Shark Lake  Meredith Hendricks happens to be the best cop ...   \n",
      "3881      Flightplan  A claustrophobic, Hitchcockian thriller. A ber...   \n",
      "4244  Chacun sa nuit  A story about bunch of people who live in a to...   \n",
      "4333           黃石的孩子  About young British journalist, George Hogg, w...   \n",
      "4574         Frailty  A man confesses to an FBI agent his family's s...   \n",
      "4779     Speed Racer  Speed Racer is the tale of a young and brillia...   \n",
      "\n",
      "      popularity                               production_companies  \\\n",
      "1574    0.140989  [{\"name\": \"Polonia Brothers Entertainment\", \"i...   \n",
      "1721    2.857936             [{\"name\": \"October Films\", \"id\": 236}]   \n",
      "3192   45.473484  [{\"name\": \"Touchstone Pictures\", \"id\": 9195}, ...   \n",
      "3266    2.418535  [{\"name\": \"Corsan\", \"id\": 7299}, {\"name\": \"Bli...   \n",
      "3616   15.673154  [{\"name\": \"Village Roadshow Pictures\", \"id\": 7...   \n",
      "3710    1.187764  [{\"name\": \"FLF Films\", \"id\": 36684}, {\"name\": ...   \n",
      "3881   32.051450  [{\"name\": \"Imagine Entertainment\", \"id\": 23}, ...   \n",
      "4244    4.665026  [{\"name\": \"R\\u00e9gion Provence C\\u00f4te d'Az...   \n",
      "4333    8.978408  [{\"name\": \"Australian Film Finance Corporation...   \n",
      "4574   16.003958  [{\"name\": \"Cinerenta Medienbeteiligungs KG\", \"...   \n",
      "4779   17.060695  [{\"name\": \"Village Roadshow Pictures\", \"id\": 7...   \n",
      "\n",
      "                                   production_countries release_date  \\\n",
      "1574  [{\"iso_3166_1\": \"US\", \"name\": \"United States o...   2015-09-29   \n",
      "1721  [{\"iso_3166_1\": \"US\", \"name\": \"United States o...   1999-08-27   \n",
      "3192  [{\"iso_3166_1\": \"US\", \"name\": \"United States o...   1990-03-23   \n",
      "3266  [{\"iso_3166_1\": \"AU\", \"name\": \"Australia\"}, {\"...   2015-02-13   \n",
      "3616  [{\"iso_3166_1\": \"US\", \"name\": \"United States o...   2007-08-17   \n",
      "3710  [{\"iso_3166_1\": \"US\", \"name\": \"United States o...   2015-10-02   \n",
      "3881  [{\"iso_3166_1\": \"US\", \"name\": \"United States o...   2005-09-22   \n",
      "4244           [{\"iso_3166_1\": \"FR\", \"name\": \"France\"}]   2006-07-21   \n",
      "4333  [{\"iso_3166_1\": \"AU\", \"name\": \"Australia\"}, {\"...   2008-07-03   \n",
      "4574  [{\"iso_3166_1\": \"DE\", \"name\": \"Germany\"}, {\"is...   2001-11-17   \n",
      "4779  [{\"iso_3166_1\": \"AU\", \"name\": \"Australia\"}, {\"...   2008-05-09   \n",
      "\n",
      "          revenue  runtime                                   spoken_languages  \\\n",
      "1574          0.0     90.0           [{\"iso_639_1\": \"en\", \"name\": \"English\"}]   \n",
      "1721          0.0     97.0           [{\"iso_639_1\": \"en\", \"name\": \"English\"}]   \n",
      "3192  463000000.0    119.0  [{\"iso_639_1\": \"en\", \"name\": \"English\"}, {\"iso...   \n",
      "3266          0.0    109.0           [{\"iso_639_1\": \"en\", \"name\": \"English\"}]   \n",
      "3616   15071514.0     99.0  [{\"iso_639_1\": \"ru\", \"name\": \"P\\u0443\\u0441\\u0...   \n",
      "3710          0.0     92.0           [{\"iso_639_1\": \"en\", \"name\": \"English\"}]   \n",
      "3881  223387299.0     98.0  [{\"iso_639_1\": \"ar\", \"name\": \"\\u0627\\u0644\\u06...   \n",
      "4244          0.0     95.0     [{\"iso_639_1\": \"fr\", \"name\": \"Fran\\u00e7ais\"}]   \n",
      "4333    7400000.0    125.0                                                NaN   \n",
      "4574   13110448.0    100.0           [{\"iso_639_1\": \"en\", \"name\": \"English\"}]   \n",
      "4779   93945766.0    135.0           [{\"iso_639_1\": \"en\", \"name\": \"English\"}]   \n",
      "\n",
      "        status                                            tagline  \\\n",
      "1574  Released                                                NaN   \n",
      "1721  Released                               In Goddess we trust.   \n",
      "3192  Released        Who knew it was so much fun to be a hooker?   \n",
      "3266  Released                          Love is longer than life.   \n",
      "3616  Released  Do not trust anyone. Do not show emotion. Do n...   \n",
      "3710  Released          In this lake you have to fight to survive   \n",
      "3881  Released  If Someone Took Everything You Live For... How...   \n",
      "4244  Released                                                NaN   \n",
      "4333  Released   War made them orphans, one man made them legends   \n",
      "4574  Released                                   No Soul Is Safe.   \n",
      "4779  Released                                                Go!   \n",
      "\n",
      "                          title  vote_average  vote_count  \n",
      "1574                 Queen Crab           3.3         3.0  \n",
      "1721                   The Muse           5.3        31.0  \n",
      "3192               Pretty Woman           7.0      1746.0  \n",
      "3266                 The Lovers           4.8        34.0  \n",
      "3616               The Invasion           5.7       359.0  \n",
      "3710                 Shark Lake           4.4        19.0  \n",
      "3881                 Flightplan           6.1       772.0  \n",
      "4244             One to Another           5.8        12.0  \n",
      "4333  The Children of Huang Shi           6.5        52.0  \n",
      "4574                    Frailty           7.0       334.0  \n",
      "4779                Speed Racer           5.7       354.0  \n"
     ]
    }
   ],
   "source": [
    "import pandas as pd, numpy as np\n",
    "\n",
    "movies = pd.read_csv(\"tmdb_5000.csv\")\n",
    "dupes = movies[movies.duplicated()]\n",
    "print(\"There are \",len(dupes),\"duplicate records:\")\n",
    "print()\n",
    "print(dupes)\n",
    "\n",
    "movies = movies.drop_duplicates()"
   ]
  },
  {
   "cell_type": "markdown",
   "metadata": {},
   "source": [
    "## 2) Using .unique(), .describe(), .dropna(), and/or other tools, report what percentage of the total values are missing/NaN for each column.\n",
    "\n",
    "Example for formatting (numbers are made up):\n",
    "\n",
    "budget: 2%\n",
    "\n",
    "genres: 1%\n",
    "\n",
    "homepage: 5%\n",
    "\n",
    "..."
   ]
  },
  {
   "cell_type": "code",
   "execution_count": 30,
   "metadata": {},
   "outputs": [
    {
     "name": "stdout",
     "output_type": "stream",
     "text": [
      "budget: 5.036269430051814%\n",
      "genres: 4.974093264248705%\n",
      "homepage: 65.65803108808291%\n",
      "id: 3.6683937823834194%\n",
      "keywords: 2.673575129533679%\n",
      "original_language: 5.948186528497409%\n",
      "original_title: 2.155440414507772%\n",
      "overview: 5.347150259067358%\n",
      "popularity: 4.725388601036269%\n",
      "production_companies: 2.9430051813471505%\n",
      "production_countries: 5.865284974093264%\n",
      "release_date: 4.145077720207254%\n",
      "revenue: 5.409326424870466%\n",
      "runtime: 5.3886010362694305%\n",
      "spoken_languages: 4.020725388601036%\n",
      "status: 4.248704663212435%\n",
      "tagline: 20.331606217616578%\n",
      "title: 2.5906735751295336%\n",
      "vote_average: 3.461139896373057%\n",
      "vote_count: 2.4041450777202074%\n"
     ]
    }
   ],
   "source": [
    "cols_missing_20 = []\n",
    "\n",
    "for col in movies.columns:\n",
    "    missing=(len(movies)-len(movies[col].dropna()))/len(movies)*100\n",
    "    print(col+\":\",str(missing)+\"%\")\n",
    "    if missing >= 20:\n",
    "        cols_missing_20.append(col)"
   ]
  },
  {
   "cell_type": "markdown",
   "metadata": {},
   "source": [
    "## 3) Again, using .unique(), .describe(), .dropna() and/or other tools (you may find .dropna() useful here with the thresh argument), report how many rows are missing 1 column of data, 2 columns, etc.\n",
    "\n",
    "Example for formatting (numbers are made up):\n",
    "\n",
    "Rows missing 1 or fewer fields: 4740\n",
    "\n",
    "Rows missing 2 or fewer fields: 3501\n",
    "\n",
    "..."
   ]
  },
  {
   "cell_type": "code",
   "execution_count": 31,
   "metadata": {},
   "outputs": [
    {
     "name": "stdout",
     "output_type": "stream",
     "text": [
      "Rows missing 1 or fewer fields: 2392\n",
      "Rows missing 2 or fewer fields: 3937\n",
      "Rows missing 3 or fewer fields: 4595\n",
      "Rows missing 4 or fewer fields: 4791\n",
      "Rows missing 5 or fewer fields: 4823\n",
      "Rows missing 6 or fewer fields: 4825\n",
      "Rows missing 7 or fewer fields: 4825\n",
      "Rows missing 8 or fewer fields: 4825\n",
      "Rows missing 9 or fewer fields: 4825\n",
      "Rows missing 10 or fewer fields: 4825\n",
      "Rows missing 11 or fewer fields: 4825\n",
      "Rows missing 12 or fewer fields: 4825\n",
      "Rows missing 13 or fewer fields: 4825\n",
      "Rows missing 14 or fewer fields: 4825\n",
      "Rows missing 15 or fewer fields: 4825\n",
      "Rows missing 16 or fewer fields: 4825\n",
      "Rows missing 17 or fewer fields: 4825\n",
      "Rows missing 18 or fewer fields: 4825\n",
      "Rows missing 19 or fewer fields: 4825\n",
      "Rows missing 20 or fewer fields: 4825\n"
     ]
    }
   ],
   "source": [
    "for i in range(1, len(movies.columns)+1):\n",
    "    print(\"Rows missing\",i,\"or fewer fields:\",len(movies.dropna(thresh=len(movies.columns)-i)))"
   ]
  },
  {
   "cell_type": "markdown",
   "metadata": {},
   "source": [
    "## 4) Print which columns are missing 20% or more of their data, and then delete them."
   ]
  },
  {
   "cell_type": "code",
   "execution_count": 32,
   "metadata": {},
   "outputs": [
    {
     "name": "stdout",
     "output_type": "stream",
     "text": [
      "Columns missing 20% or more of their data:\n",
      "homepage\n",
      "tagline\n"
     ]
    }
   ],
   "source": [
    "print(\"Columns missing 20% or more of their data:\")\n",
    "for col in cols_missing_20:\n",
    "    print(col)\n",
    "    del movies[col]"
   ]
  },
  {
   "cell_type": "markdown",
   "metadata": {},
   "source": [
    "## 5) Print how many rows are missing 3 or more fields of data, and then delete them."
   ]
  },
  {
   "cell_type": "code",
   "execution_count": 53,
   "metadata": {},
   "outputs": [
    {
     "name": "stdout",
     "output_type": "stream",
     "text": [
      "18\n",
      "There are 16 with 3 or more fields missing.\n"
     ]
    }
   ],
   "source": [
    "print(len(movies.columns))\n",
    "print(\"There are\",len(movies)-len(movies.dropna(thresh=len(movies.columns)-3)),\"with 3 or more fields missing.\")\n",
    "movies = movies.dropna(thresh = 15)"
   ]
  },
  {
   "cell_type": "markdown",
   "metadata": {},
   "source": [
    "## 6) Good news! A non-corrupted version of some of the data has been found.  Import \"tmdb2.csv\" into pandas as a dataframe, and use .merge() to combine it with the dataframe you've been cleaning."
   ]
  },
  {
   "cell_type": "code",
   "execution_count": 56,
   "metadata": {
    "collapsed": true
   },
   "outputs": [],
   "source": [
    "movies2 = pd.read_csv(\"tmdb2.csv\")\n",
    "new_movies = pd.merge(movies, movies2, on = 'id')"
   ]
  },
  {
   "cell_type": "markdown",
   "metadata": {},
   "source": [
    "## Extra:\n",
    "## 7) Hm, that makes a dataframe with a lot of redundant columns.  Try using .combine_first() instead -- the syntax is as follows: df1.combine_first(df2), with the first dataframe as the one you've been cleaning.  How is the resulting dataframe different from the one generated from.merge()?"
   ]
  },
  {
   "cell_type": "code",
   "execution_count": 58,
   "metadata": {},
   "outputs": [
    {
     "name": "stdout",
     "output_type": "stream",
     "text": [
      "Index(['budget', 'genres', 'homepage', 'id', 'keywords', 'original_language',\n",
      "       'original_title', 'overview', 'popularity', 'production_companies',\n",
      "       'production_countries', 'release_date', 'revenue', 'runtime',\n",
      "       'spoken_languages', 'status', 'tagline', 'title', 'vote_average',\n",
      "       'vote_count'],\n",
      "      dtype='object')\n"
     ]
    }
   ],
   "source": [
    "new_movies2 = movies.combine_first(movies2)\n",
    "\n",
    "print(new_movies2.columns)"
   ]
  },
  {
   "cell_type": "markdown",
   "metadata": {},
   "source": [
    "The .combine_first() generated dataframe has only one set of columns, with missing values from the first dataset populated from teh second dataset."
   ]
  },
  {
   "cell_type": "code",
   "execution_count": null,
   "metadata": {
    "collapsed": true
   },
   "outputs": [],
   "source": []
  }
 ],
 "metadata": {
  "kernelspec": {
   "display_name": "Python 3",
   "language": "python",
   "name": "python3"
  },
  "language_info": {
   "codemirror_mode": {
    "name": "ipython",
    "version": 3
   },
   "file_extension": ".py",
   "mimetype": "text/x-python",
   "name": "python",
   "nbconvert_exporter": "python",
   "pygments_lexer": "ipython3",
   "version": "3.6.3"
  }
 },
 "nbformat": 4,
 "nbformat_minor": 2
}
