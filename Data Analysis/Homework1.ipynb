{
 "cells": [
  {
   "cell_type": "markdown",
   "metadata": {},
   "source": [
    "Jacob Kickbush\n",
    "Homework 1\n",
    "Python for Data Analysis"
   ]
  },
  {
   "cell_type": "markdown",
   "metadata": {},
   "source": [
    "Import numpy to use it's functions, and use the np.random.rand function to create a 2x3 array of random numbers between 0 and 1.\n",
    "Then I print the array, its shape, and its dtype."
   ]
  },
  {
   "cell_type": "code",
   "execution_count": 1,
   "metadata": {},
   "outputs": [
    {
     "name": "stdout",
     "output_type": "stream",
     "text": [
      "[[0.95383303 0.68707407 0.88148523]\n",
      " [0.72893147 0.21431709 0.91699753]]\n",
      "(2, 3)\n",
      "float64\n"
     ]
    }
   ],
   "source": [
    "import numpy as np\n",
    "\n",
    "array1 = np.random.rand(2,3)\n",
    "\n",
    "print(array1)\n",
    "print(array1.shape)\n",
    "print(array1.dtype)"
   ]
  },
  {
   "cell_type": "markdown",
   "metadata": {},
   "source": [
    "Add 1 to every value in the array and overwrite the previous array with the new one."
   ]
  },
  {
   "cell_type": "code",
   "execution_count": 2,
   "metadata": {},
   "outputs": [
    {
     "name": "stdout",
     "output_type": "stream",
     "text": [
      "[[1.95383303 1.68707407 1.88148523]\n",
      " [1.72893147 1.21431709 1.91699753]]\n"
     ]
    }
   ],
   "source": [
    "array1 = array1 + 1\n",
    "\n",
    "print(array1)"
   ]
  },
  {
   "cell_type": "markdown",
   "metadata": {},
   "source": [
    "Multiply the array by the list [10,20,30] meaning each row of 3 numbers will be multiplied by each one respectively."
   ]
  },
  {
   "cell_type": "code",
   "execution_count": 3,
   "metadata": {},
   "outputs": [
    {
     "name": "stdout",
     "output_type": "stream",
     "text": [
      "[[19.53833034 33.74148136 56.44455676]\n",
      " [17.28931474 24.28634181 57.50992578]]\n"
     ]
    }
   ],
   "source": [
    "array1 = array1 * [10,20,30]\n",
    "\n",
    "print(array1)"
   ]
  },
  {
   "cell_type": "markdown",
   "metadata": {},
   "source": [
    "Here I overwrote the first row of the array by indexing array1[0] and changed the values for that row to 22. "
   ]
  },
  {
   "cell_type": "code",
   "execution_count": 4,
   "metadata": {},
   "outputs": [
    {
     "name": "stdout",
     "output_type": "stream",
     "text": [
      "[[22.         22.         22.        ]\n",
      " [17.28931474 24.28634181 57.50992578]]\n"
     ]
    }
   ],
   "source": [
    "array1[0] = 22\n",
    "\n",
    "print(array1)"
   ]
  },
  {
   "cell_type": "markdown",
   "metadata": {},
   "source": [
    "I created two new arrays, both 1x10 with random numbers between 0 and 1. I then made a 4th array that was the difference of these two arrays. "
   ]
  },
  {
   "cell_type": "code",
   "execution_count": 5,
   "metadata": {},
   "outputs": [
    {
     "name": "stdout",
     "output_type": "stream",
     "text": [
      "[[0.35217376 0.83543489 0.22416949 0.89462002 0.13100761 0.78048855\n",
      "  0.40109143 0.42918124 0.7454878  0.76909069]]\n",
      "\n",
      "[[0.28822049 0.55006845 0.19500692 0.98786714 0.5797507  0.14959333\n",
      "  0.9086949  0.00732248 0.67082072 0.51037537]]\n",
      "\n",
      "[[-0.06395327 -0.28536644 -0.02916257  0.09324712  0.44874309 -0.63089521\n",
      "   0.50760347 -0.42185876 -0.07466708 -0.25871533]]\n"
     ]
    }
   ],
   "source": [
    "array2 = np.random.rand(1,10)\n",
    "array3 = np.random.rand(1,10)\n",
    "\n",
    "print(array2)\n",
    "print()\n",
    "print(array3)\n",
    "print()\n",
    "\n",
    "array4 = array3 - array2\n",
    "\n",
    "print(array4)"
   ]
  },
  {
   "cell_type": "markdown",
   "metadata": {},
   "source": [
    "Used the .mean() method on the array to get the mean. Used np.median and np.std to get the median and standard deviation of the array."
   ]
  },
  {
   "cell_type": "code",
   "execution_count": 6,
   "metadata": {},
   "outputs": [
    {
     "name": "stdout",
     "output_type": "stream",
     "text": [
      "-0.07150249813670333\n",
      "-0.06931017287846497\n",
      "0.3393342678665559\n"
     ]
    }
   ],
   "source": [
    "print(array4.mean())\n",
    "print(np.median(array4))\n",
    "print(np.std(array4))"
   ]
  },
  {
   "cell_type": "markdown",
   "metadata": {},
   "source": [
    "Used boolean indexing to print out every number in the array4 if that number was greater than 0.2"
   ]
  },
  {
   "cell_type": "code",
   "execution_count": 7,
   "metadata": {},
   "outputs": [
    {
     "name": "stdout",
     "output_type": "stream",
     "text": [
      "[0.44874309 0.50760347]\n"
     ]
    }
   ],
   "source": [
    "print(array4[array4 > .2])"
   ]
  }
 ],
 "metadata": {
  "kernelspec": {
   "display_name": "Python 3",
   "language": "python",
   "name": "python3"
  },
  "language_info": {
   "codemirror_mode": {
    "name": "ipython",
    "version": 3
   },
   "file_extension": ".py",
   "mimetype": "text/x-python",
   "name": "python",
   "nbconvert_exporter": "python",
   "pygments_lexer": "ipython3",
   "version": "3.6.5"
  }
 },
 "nbformat": 4,
 "nbformat_minor": 2
}
