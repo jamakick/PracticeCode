{
 "cells": [
  {
   "cell_type": "markdown",
   "metadata": {},
   "source": [
    "Jacob Kickbush\n",
    "Lab Assignment 1\n",
    "I-399 Python for Data Analysis Spring 2019"
   ]
  },
  {
   "cell_type": "markdown",
   "metadata": {},
   "source": [
    "We import the csv module so we can open our file using DictReader.\n",
    "Using the with open we open our csv file and read it into the DictReader reader object.\n",
    "To find the length of the number of entries, we first convert our reader to a list since the DictReader object is a pointer and cannot have the length taken of it.\n",
    "We then get the length of our list and print it out."
   ]
  },
  {
   "cell_type": "code",
   "execution_count": 40,
   "metadata": {},
   "outputs": [
    {
     "name": "stdout",
     "output_type": "stream",
     "text": [
      "2289\n"
     ]
    }
   ],
   "source": [
    "import csv\n",
    "with open('Non_DoD_201609_excerpt.csv', \"r\") as file:\n",
    "    reader = csv.DictReader(file)\n",
    "    \n",
    "    lst = list(reader)\n",
    "    \n",
    "    length = len(lst)\n",
    "    \n",
    "    print(length)\n",
    "    \n",
    "    \n"
   ]
  },
  {
   "cell_type": "markdown",
   "metadata": {},
   "source": [
    "Here we open our csv file again since we need to use that reader object that we created before.\n",
    "Inside of this with we create an empty dictionary to hold the agency name as a key, and a list of the total pay and number of employees as the value.\n",
    "\n",
    "We then loop through every entry in the reader object and grab both the agency name and their pay. We then add it to the dictionary, creating the default if it is not there, and adding to both values in the value if it is. \n",
    "\n",
    "After we finish getting all of our data, we go through each agencies entry in our total dictionary to get the average pay. We take both variables in our value list and divide them, rounding them to two decimal places since it represents pay. We then replace that value list with our new complete average pay.\n",
    "\n",
    "Afterwards we print it out using padding between the two values."
   ]
  },
  {
   "cell_type": "code",
   "execution_count": 50,
   "metadata": {},
   "outputs": [
    {
     "name": "stdout",
     "output_type": "stream",
     "text": [
      "\tDepartment:                                                       AveragePay:\n",
      "\n",
      "TD-DEPARTMENT OF TRANSPORTATION                                            113502.5\n",
      "DJ-DEPARTMENT OF JUSTICE                                                   92838.98\n",
      "HS-DEPARTMENT OF HOMELAND SECURITY                                         78830.5\n",
      "AG-DEPARTMENT OF AGRICULTURE                                               63967.41\n",
      "VA-DEPARTMENT OF VETERANS AFFAIRS                                          76235.28\n",
      "IN-DEPARTMENT OF THE INTERIOR                                              75623.37\n",
      "HE-DEPARTMENT OF HEALTH AND HUMAN SERVICES                                 106350.59\n",
      "NN-NATIONAL AERONAUTICS AND SPACE ADMINISTRATION                           122579.7\n",
      "EP-ENVIRONMENTAL PROTECTION AGENCY                                         118152.2\n",
      "ST-DEPARTMENT OF STATE                                                     84425.59\n",
      "CM-DEPARTMENT OF COMMERCE                                                  91676.2\n",
      "TR-DEPARTMENT OF THE TREASURY                                              85631.15\n",
      "SM-SMITHSONIAN INSTITUTION                                                 86332.67\n",
      "SZ-SOCIAL SECURITY ADMINISTRATION                                          85668.42\n",
      "FC-FEDERAL COMMUNICATIONS COMMISSION                                       133584.67\n",
      "AM-U.S. AGENCY FOR INTERNATIONAL DEVELOPMENT                               125631.62\n",
      "GS-GENERAL SERVICES ADMINISTRATION                                         101637.67\n",
      "NF-NATIONAL SCIENCE FOUNDATION                                             120826.0\n",
      "SB-SMALL BUSINESS ADMINISTRATION                                           108789.0\n",
      "FD-FEDERAL DEPOSIT INSURANCE CORPORATION                                   152165.4\n",
      "NL-NATIONAL LABOR RELATIONS BOARD                                          123284.33\n",
      "ED-DEPARTMENT OF EDUCATION                                                 114927.5\n",
      "DL-DEPARTMENT OF LABOR                                                     95646.19\n",
      "OM-OFFICE OF PERSONNEL MANAGEMENT                                          98178.43\n",
      "SE-SECURITIES AND EXCHANGE COMMISSION                                      202397.75\n",
      "HU-DEPARTMENT OF HOUSING AND URBAN DEVELOPMENT                             102945.62\n",
      "BG-PENSION BENEFIT GUARANTY CORPORATION                                    129758.67\n",
      "CU-NATIONAL CREDIT UNION ADMINISTRATION                                    140537.8\n",
      "PU-PEACE CORPS                                                             125532.5\n",
      "NU-NUCLEAR REGULATORY COMMISSION                                           117667.0\n",
      "AH-NATIONAL FOUNDATION ON THE ARTS AND THE HUMANITIES                      119776.0\n",
      "VD-PRIVACY AND CIVIL LIBERTIES OVERSIGHT BOARD                             149432.0\n",
      "BO-OFFICE OF MANAGEMENT AND BUDGET                                         148609.99\n",
      "CT-COMMODITY FUTURES TRADING COMMISSION                                    128565.0\n",
      "IB-BROADCASTING BOARD OF GOVERNORS                                         108887.0\n",
      "KS-CORPORATION FOR NATIONAL AND COMMUNITY SERVICE                          79264.0\n",
      "TB-NATIONAL TRANSPORTATION SAFETY BOARD                                    134296.0\n",
      "FL-FARM CREDIT ADMINISTRATION                                              66495.0\n",
      "NQ-NATIONAL ARCHIVES AND RECORDS ADMINISTRATION                            68553.33\n",
      "EO-MORRIS K. UDALL AND STEWART L. UDALL FOUNDATION                         64862.0\n",
      "EQ-COUNCIL ON ENVIRONMENTAL QUALITY/OFFICE OF ENVIRONMENTAL QUALITY        55000.0\n",
      "CX-NATIONAL COMMISSION ON LIBRARIES AND INFORMATION SCIENCE                118437.25\n",
      "EE-EQUAL EMPLOYMENT OPPORTUNITY COMMISSION                                 45995.0\n",
      "FT-FEDERAL TRADE COMMISSION                                                133902.5\n",
      "DB-PUBLIC INTEREST DECLASSIFICATION BOARD                                  121956.45\n",
      "GW-INTERNATIONAL BOUNDARY AND WATER COMMISSION:  UNITED STATES AND MEXICO  82848.0\n",
      "SK-CONSUMER PRODUCT SAFETY COMMISSION                                      101067.0\n",
      "\n"
     ]
    }
   ],
   "source": [
    "with open('Non_DoD_201609_excerpt.csv', \"r\") as file:\n",
    "    reader = csv.DictReader(file)\n",
    "    \n",
    "    total = {}\n",
    "    \n",
    "    for row in reader:\n",
    "        agency = row['Agency']\n",
    "        pay = row['Adjusted Basic Pay']\n",
    "        \n",
    "        if agency not in total:\n",
    "            total[agency] = [float(pay), 1]\n",
    "        else:\n",
    "            total[agency][0] += float(pay)\n",
    "            total[agency][1] += 1\n",
    "            \n",
    "        \n",
    "for row in total:\n",
    "    nums = total[row]\n",
    "    avg = float(nums[0]) / int(nums[1])\n",
    "    avg = round(avg, 2)\n",
    "        \n",
    "    total[row] = avg\n",
    "            \n",
    "\n",
    "prntString = \"\"\n",
    "    \n",
    "for (key,value) in total.items():\n",
    "    spacing = 75\n",
    "    padding = spacing - len(key)\n",
    "        \n",
    "    prntString += key\n",
    "    prntString += \" \" * padding\n",
    "    prntString += str(value) + \"\\n\"\n",
    "        \n",
    "    \n",
    "print(\"\\tDepartment:\" + \" \" * 55 + \"AveragePay:\\n\")\n",
    "print(prntString)\n",
    "        \n",
    "        \n",
    "    "
   ]
  },
  {
   "cell_type": "markdown",
   "metadata": {},
   "source": [
    "Here we are writing a csv file with the total dictionary we created before.\n",
    "\n",
    "We use with open to create a new csv file for average Agency Pay and create a csv.writer object with a delimiter of a comment.\n",
    "\n",
    "We write the first row as our header row, with Agency name and Average pay.\n",
    "\n",
    "We then go through each key value tuple in our total dictionary and write a row with those values as a list. This creates the averageAgencyPay.csv file with the dictionary information in the same directory as the notebook."
   ]
  },
  {
   "cell_type": "code",
   "execution_count": 51,
   "metadata": {},
   "outputs": [],
   "source": [
    "with open(\"averageAgencyPay.csv\", \"w\") as writeFile:\n",
    "    write = csv.writer(writeFile, delimiter=\",\")\n",
    "    \n",
    "    write.writerow([\"Agency Name\", \"Average Pay\"])\n",
    "    \n",
    "    for (key,value) in total.items():\n",
    "        write.writerow([key, value])"
   ]
  }
 ],
 "metadata": {
  "kernelspec": {
   "display_name": "Python 3",
   "language": "python",
   "name": "python3"
  },
  "language_info": {
   "codemirror_mode": {
    "name": "ipython",
    "version": 3
   },
   "file_extension": ".py",
   "mimetype": "text/x-python",
   "name": "python",
   "nbconvert_exporter": "python",
   "pygments_lexer": "ipython3",
   "version": "3.6.5"
  }
 },
 "nbformat": 4,
 "nbformat_minor": 2
}
